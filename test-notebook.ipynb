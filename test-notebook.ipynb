{
 "cells": [
  {
   "cell_type": "markdown",
   "id": "443955c3",
   "metadata": {},
   "source": [
    "# An example notebook\n",
    "Here's some introductory text\n",
    "\n",
    "Don't forget these useful shortcuts:\n",
    "* `Esc` to enter command mode.\n",
    "* `Enter` to enter edit mode.\n",
    "\n",
    "When in Command mode:\n",
    "* The `b` key will make a new cell below the currently selected cell.\n",
    "* The `a` key will make one above.\n",
    "* The `x` key will delete the current cell.\n",
    "* The `z` key will undo your last cell operation (which could be a deletion, creation, etc).\n",
    "* You can use the `up` and `down` keys to move between cells.\n",
    "\n",
    "When in Edit mode:\n",
    "* `shift + return` will run the contents of the current cell (i.e. display markdown or run code)."
   ]
  },
  {
   "cell_type": "code",
   "execution_count": 1,
   "id": "d737f65f",
   "metadata": {},
   "outputs": [
    {
     "name": "stdout",
     "output_type": "stream",
     "text": [
      "11\n"
     ]
    }
   ],
   "source": [
    "# Let's do some Python\n",
    "a = 5\n",
    "b = 6\n",
    "variableName = a + b\n",
    "print(variableName)"
   ]
  }
 ],
 "metadata": {
  "kernelspec": {
   "display_name": "Python 3 (ipykernel)",
   "language": "python",
   "name": "python3"
  },
  "language_info": {
   "codemirror_mode": {
    "name": "ipython",
    "version": 3
   },
   "file_extension": ".py",
   "mimetype": "text/x-python",
   "name": "python",
   "nbconvert_exporter": "python",
   "pygments_lexer": "ipython3",
   "version": "3.7.11"
  }
 },
 "nbformat": 4,
 "nbformat_minor": 5
}
