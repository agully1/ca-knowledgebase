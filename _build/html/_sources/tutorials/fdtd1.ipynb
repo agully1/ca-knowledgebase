{
 "cells": [
  {
   "cell_type": "markdown",
   "metadata": {},
   "source": [
    "# FDTD Tutorial 1: Simple 2D plate\n",
    "\n",
    "```{warning}\n",
    "This section is currently under development. Content may not be complete, links may be broken, etc.\n",
    "```\n",
    "\n",
    ":::{note}\n",
    "You can run this code directly in your browser by clicking on the rocket logo at the top of the page, and clicking 'Binder'. This will open a Jupyter Notebook in a [Binder](https://mybinder.org/) environment which is set up to contain everything you need to run the code. **Don't forget to save a local copy if you make any changes!**\n",
    "\n",
    "If you are new to using Jupyter Notebooks, [this guide](https://www.dataquest.io/blog/jupyter-notebook-tutorial/) will help you get started.\n",
    ":::\n",
    "\n",
    "## Prerequisites\n",
    "\n",
    "None.\n",
    "\n",
    "## Introduction\n",
    "\n",
    "In this tutorial, we will use a simple [explicit](../reference/glossary) finite difference time domain (FDTD) scheme to simulate wave propagation in two dimensions.\n",
    "\n",
    "The FDTD scheme breaks a domain down into equally-sized cells. For our simple 2D scheme, we will use square cells. Let us imagine our domain is also square, and 1m x 1m in size. We will discuss how to decide the size of the cells later in this tutorial. For now, all we need to know is that we will split our domain up into multiple cells:\n",
    "\n",
    "-- image of domain --\n",
    "\n",
    "In this example, we will use FDTD to provide an approximate solution to the scalar wave equation:\n",
    "\n",
    "-- equation --\n",
    "\n",
    "A finite difference approximation to this equation can be described as follows (see the theory section for how we got here):\n",
    "\n",
    "-- fd equation --\n",
    "\n",
    "Our aim is to approximate the evolution of the pressure and velocity fields in our domain over some specified duration. As this is a time-domain simulation, we consider the problem one time sample at a time. We will therefore start from some initial state, and follow the relation above to update the pressure and velocity values for each cell at the next time sample, on the basis of their exisiting values.\n",
    "\n",
    "One important thing to know about the basic FDTD scheme is that the pressure and velocity fields are _staggered_, with velocity values exisiting at a location halfway between pressure values. Despite this, it is conventional to refer to the velocity components with the same spatial indeces as the pressure values. See the image below for an explanation.\n",
    "\n",
    "-- image of a cell ---\n",
    "\n",
    "Our simulation, therefore, will start at time sample 0 with the pressure field P at t=0. The values in this pressure field will comprise our initial condition. From here, the velocity components in both dimensions are calculated. We then proceed to the next time step and update the pressure field, then the velocity fields, and so on for every time sample in the simulation. \n",
    "\n",
    "We obtain the output of the simulation by selecting a receiver location (a single point on the mesh) and saving the pressure value at that mesh location every time sample. \n",
    "\n",
    "\n",
    "## Setup\n",
    "\n",
    "We will use the `numpy` library for convenient handling of arrays, the `matplotlib.pyplot` library for plotting the output, and the `scipy.io.wavfile` library to allow us to write the resulting audio to a wav file.\n"
   ]
  },
  {
   "cell_type": "code",
   "execution_count": null,
   "metadata": {},
   "outputs": [],
   "source": [
    "import matplotlib.pyplot as plt\n",
    "from scipy.io.wavfile import write\n",
    "import numpy as np"
   ]
  },
  {
   "cell_type": "markdown",
   "metadata": {},
   "source": [
    "\n",
    "## Initial example\n",
    "\n",
    "The first thing we will do is set up a 2D domain for simulation. We will provide the domain size, as well as the material properties (density and bulk modulus) - in this case, we'll use properties for air. This is a [homogeneous](../reference/glossary) domain: the material properties are the same throughout.\n"
   ]
  },
  {
   "cell_type": "code",
   "execution_count": null,
   "metadata": {},
   "outputs": [],
   "source": [
    "# Simple example code"
   ]
  },
  {
   "cell_type": "markdown",
   "metadata": {},
   "source": [
    "The next thing we need to do is decide upon our temporal and spatial step sizes. Here we meet an important consideration for FDTD (and all explicit, time-stepping) simulations: the Courant-Friedrichs-Lewy condition."
   ]
  },
  {
   "cell_type": "code",
   "execution_count": null,
   "metadata": {},
   "outputs": [],
   "source": [
    "# More code"
   ]
  },
  {
   "cell_type": "markdown",
   "metadata": {},
   "source": [
    "We will now set up arrays to hold velocity and pressure values during the simulation, and define our input signal and input and output (source and reciever) locations."
   ]
  },
  {
   "cell_type": "code",
   "execution_count": null,
   "metadata": {},
   "outputs": [],
   "source": [
    "# More code"
   ]
  },
  {
   "cell_type": "markdown",
   "metadata": {},
   "source": [
    "We are now ready to perform the simulation by looping through every time step:"
   ]
  },
  {
   "cell_type": "code",
   "execution_count": null,
   "metadata": {},
   "outputs": [],
   "source": [
    "# Mode code"
   ]
  },
  {
   "cell_type": "markdown",
   "metadata": {},
   "source": [
    "Finally, we can plot the output signal, and save it as a wav file so we can hear it:"
   ]
  },
  {
   "cell_type": "code",
   "execution_count": null,
   "metadata": {},
   "outputs": [],
   "source": [
    "# More code"
   ]
  },
  {
   "cell_type": "markdown",
   "metadata": {},
   "source": [
    "\n",
    "## Adding boundaries\n",
    "\n",
    "Add some simple boundaries.\n"
   ]
  },
  {
   "cell_type": "code",
   "execution_count": null,
   "metadata": {},
   "outputs": [],
   "source": [
    "# And here is some more code"
   ]
  },
  {
   "cell_type": "markdown",
   "metadata": {},
   "source": [
    "## Different types of source\n",
    "\n",
    "Info"
   ]
  },
  {
   "cell_type": "code",
   "execution_count": null,
   "metadata": {},
   "outputs": [],
   "source": [
    "# More code"
   ]
  },
  {
   "cell_type": "markdown",
   "metadata": {},
   "source": [
    "## Summary\n",
    "\n",
    "_Please include a few summary bullets describing the main take-aways from the tutorial._\n",
    "\n",
    "* Bullet 1\n",
    "* Bullet 2\n",
    "* Bullet 3"
   ]
  }
 ],
 "metadata": {
  "kernelspec": {
   "display_name": "Python 3 (ipykernel)",
   "language": "python",
   "name": "python3"
  },
  "language_info": {
   "codemirror_mode": {
    "name": "ipython",
    "version": 3
   },
   "file_extension": ".py",
   "mimetype": "text/x-python",
   "name": "python",
   "nbconvert_exporter": "python",
   "pygments_lexer": "ipython3",
   "version": "3.7.11"
  },
  "widgets": {
   "application/vnd.jupyter.widget-state+json": {
    "state": {},
    "version_major": 2,
    "version_minor": 0
   }
  }
 },
 "nbformat": 4,
 "nbformat_minor": 4
}
